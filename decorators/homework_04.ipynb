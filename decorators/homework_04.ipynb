{
 "cells": [
  {
   "cell_type": "markdown",
   "metadata": {
    "id": "QY4qPJPpgyIS"
   },
   "source": [
    "# Домашнее задание: декораторы"
   ]
  },
  {
   "cell_type": "markdown",
   "metadata": {
    "id": "Chacc6YchldZ"
   },
   "source": [
    "## Импорт библиотек, установка констант"
   ]
  },
  {
   "cell_type": "code",
   "execution_count": 1,
   "metadata": {
    "id": "w8iKrWvwhrFd"
   },
   "outputs": [],
   "source": [
    "import requests\n",
    "import time\n",
    "import re\n",
    "\n",
    "from random import randint\n",
    "from functools import wraps"
   ]
  },
  {
   "cell_type": "code",
   "execution_count": 2,
   "metadata": {
    "id": "-LRkS0fSi8Np"
   },
   "outputs": [],
   "source": [
    "BOOK_PATH = 'https://www.gutenberg.org/files/2638/2638-0.txt'"
   ]
  },
  {
   "cell_type": "markdown",
   "metadata": {
    "id": "kARfL8ifg4MH"
   },
   "source": [
    "## Задание 1"
   ]
  },
  {
   "cell_type": "code",
   "execution_count": 3,
   "metadata": {
    "id": "hNHNWPhngrUl"
   },
   "outputs": [],
   "source": [
    "def benchmark(func):\n",
    "    \"\"\"\n",
    "    Декоратор, выводящий время, которое заняло выполнение декорируемой функции\n",
    "    \"\"\"\n",
    "\n",
    "    def wrapper(*args, **kwargs):\n",
    "        t_start = time.perf_counter()\n",
    "        res = func(*args, **kwargs)\n",
    "        t_end = time.perf_counter()\n",
    "        print(f\"Время выполнения функции {func.__name__}: {t_end - t_start}\")\n",
    "        return res\n",
    "    return wrapper"
   ]
  },
  {
   "cell_type": "markdown",
   "metadata": {
    "id": "tGlbUKjihL5n"
   },
   "source": [
    "## Задание 2"
   ]
  },
  {
   "cell_type": "code",
   "execution_count": 4,
   "metadata": {
    "id": "wugOZDLqhNe-"
   },
   "outputs": [],
   "source": [
    "def logging(func):\n",
    "    \"\"\"\n",
    "    Декоратор, который выводит параметры с которыми была вызвана функция\n",
    "    \"\"\"\n",
    "\n",
    "    def wrapper(*args, **kwargs):\n",
    "        res = func(*args, **kwargs)\n",
    "        print(f\"Функция была вызвана с параментарми: {args}, {kwargs}\")\n",
    "        # print (func.__name__, args, kwargs)\n",
    "        return res\n",
    "    return wrapper"
   ]
  },
  {
   "cell_type": "markdown",
   "metadata": {
    "id": "Sq1tv5fshTfv"
   },
   "source": [
    "## Задание 3"
   ]
  },
  {
   "cell_type": "code",
   "execution_count": 5,
   "metadata": {
    "id": "9nyvuxXkhVeb"
   },
   "outputs": [],
   "source": [
    "def counter(func):\n",
    "    \"\"\"\n",
    "    Декоратор, считающий и выводящий количество вызовов декорируемой функции\n",
    "    \"\"\"\n",
    "\n",
    "    def wrapper(*args, **kwargs):\n",
    "        wrapper.count += 1\n",
    "        res = func(*args, **kwargs)\n",
    "        print(f\"Функция была вызвана: {wrapper.count} раз\")\n",
    "        return res\n",
    "    wrapper.count = 0\n",
    "    return wrapper"
   ]
  },
  {
   "cell_type": "markdown",
   "metadata": {
    "id": "uHn8Adfshz5q"
   },
   "source": [
    "## Задание 4"
   ]
  },
  {
   "cell_type": "code",
   "execution_count": 6,
   "metadata": {
    "id": "R7uu6WtGifNX"
   },
   "outputs": [],
   "source": [
    "def memo(func):\n",
    "    \"\"\"\n",
    "    Декоратор, запоминающий результаты исполнения функции func, чьи аргументы *args должны быть хешируемыми\n",
    "    \"\"\"\n",
    "    cache = {}\n",
    "\n",
    "    @wraps(func)\n",
    "    def wrapper(*args, **kwargs):\n",
    "        key = (args, frozenset(kwargs.items()))\n",
    "        if key not in cache:\n",
    "            cache[key] = func(*args, **kwargs)\n",
    "        return cache[key]\n",
    "\n",
    "    wrapper.cache = cache\n",
    "    return wrapper"
   ]
  },
  {
   "cell_type": "markdown",
   "metadata": {
    "id": "Zn5UQCa_izxo"
   },
   "source": [
    "## Тестирование"
   ]
  },
  {
   "cell_type": "code",
   "execution_count": 7,
   "metadata": {
    "colab": {
     "base_uri": "https://localhost:8080/"
    },
    "id": "CHCJ64I8i2QB",
    "outputId": "f9412d75-6375-44a2-df99-39772df75d77"
   },
   "outputs": [
    {
     "name": "stdout",
     "output_type": "stream",
     "text": [
      "Время выполнения функции word_count: 1.6241763001307845\n",
      "Функция была вызвана с параментарми: ('whole',), {}\n",
      "Функция была вызвана: 1 раз\n",
      "Cлово whole встречается 176 раз\n"
     ]
    }
   ],
   "source": [
    "@counter\n",
    "@logging\n",
    "@benchmark\n",
    "def word_count(word, url=BOOK_PATH):\n",
    "    \"\"\"\n",
    "    Функция для посчета указанного слова на html-странице\n",
    "    \"\"\"\n",
    "\n",
    "    # отправляем запрос в библиотеку Gutenberg и забираем текст\n",
    "    raw = requests.get(url).text\n",
    "\n",
    "    # заменяем в тексте все небуквенные символы на пробелы\n",
    "    processed_book = re.sub('[\\W]+' , ' ', raw).lower()\n",
    "\n",
    "    # считаем\n",
    "    cnt = len(re.findall(word.lower(), processed_book))\n",
    "\n",
    "    return f\"Cлово {word} встречается {cnt} раз\"\n",
    "\n",
    "print(word_count('whole'))"
   ]
  },
  {
   "cell_type": "code",
   "execution_count": 8,
   "metadata": {
    "id": "ZE4Rfn-hh3k3"
   },
   "outputs": [],
   "source": [
    "def fib(n):\n",
    "    if n < 2:\n",
    "        return n\n",
    "    return fib(n-2) + fib(n-1)"
   ]
  },
  {
   "cell_type": "code",
   "execution_count": 9,
   "metadata": {},
   "outputs": [
    {
     "name": "stdout",
     "output_type": "stream",
     "text": [
      "fib потребовалось 0.001598 секунд\n"
     ]
    }
   ],
   "source": [
    "# измеряем время выполнения\n",
    "start = time.perf_counter()\n",
    "result = fib(20)\n",
    "end = time.perf_counter()\n",
    "print(f'{fib.__name__} потребовалось {end - start:.6f} секунд')"
   ]
  },
  {
   "cell_type": "code",
   "execution_count": 10,
   "metadata": {
    "id": "W9B3e-t9iTUj"
   },
   "outputs": [],
   "source": [
    "@memo\n",
    "def fib(n):\n",
    "    if n < 2:\n",
    "        return n\n",
    "    return fib(n-2) + fib(n-1)"
   ]
  },
  {
   "cell_type": "code",
   "execution_count": 12,
   "metadata": {},
   "outputs": [
    {
     "name": "stdout",
     "output_type": "stream",
     "text": [
      "fib потребовалось 0.000112 секунд\n"
     ]
    }
   ],
   "source": [
    "# измеряем время выполнения\n",
    "start = time.perf_counter()\n",
    "result = fib(20)\n",
    "end = time.perf_counter()\n",
    "print(f'{fib.__name__} потребовалось {end - start:.6f} секунд')"
   ]
  }
 ],
 "metadata": {
  "colab": {
   "provenance": []
  },
  "kernelspec": {
   "display_name": "Python 3 (ipykernel)",
   "language": "python",
   "name": "python3"
  },
  "language_info": {
   "codemirror_mode": {
    "name": "ipython",
    "version": 3
   },
   "file_extension": ".py",
   "mimetype": "text/x-python",
   "name": "python",
   "nbconvert_exporter": "python",
   "pygments_lexer": "ipython3",
   "version": "3.10.10"
  }
 },
 "nbformat": 4,
 "nbformat_minor": 4
}
